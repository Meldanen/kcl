{
 "cells": [
  {
   "cell_type": "markdown",
   "metadata": {},
   "source": [
    "# Coursework 1\n",
    "\n",
    "### Deadline: 29th October 2019, 4pm\n",
    "### Submission format\n",
    "Solve all the questions directly in this notebook. Some tasks require writing and running code. Other times you are asked to write answers to questions within the 'Markdown' cells and the answers are prompted by  '**Your answer:**'. \n",
    "\n",
    "Submit the solved Jupyter notebook with the code and answers to KEATS. Make sure that all your code is working. We will mark the results that appear after your cells not the code, so please make sure everything that we ask is printed and displayed. You do not need to submit the data files with your notebooks. Your submission should consists of  __a single Python notebook file named  CW1_Surname_Forname_degree.ipynb__ where degree refers to BEng/MEng/MSc/MRes.\n",
    "\n",
    "Marks obtained in this coursework will be converted to \n",
    "* BEng/MEng __25% of your final grade__\n",
    "* MSc/MRes __15% of your final grade__\n",
    "\n",
    "Any questions about the coursework should be sent to maria.murgasova@kcl.ac.uk"
   ]
  },
  {
   "cell_type": "markdown",
   "metadata": {},
   "source": [
    "## Question 1\n",
    "### Your Own Ridge Regression\n",
    "\n",
    "The purpose of this question is to implement your own Ridge regression and apply to prediction of gestational age (GA) from volumes of 86 brain structures.\n",
    "\n",
    "The data are in the file \"GA-structure-volumes-preterm.csv\". It contains GA in column zero and volumes of 86 structures in columns 1,...,86. The code below loads the file and creates label/target vector $\\mathbf{y}$ and feature matrix $\\mathbf{X}$. Run the code."
   ]
  },
  {
   "cell_type": "code",
   "execution_count": 1,
   "metadata": {},
   "outputs": [
    {
     "name": "stdout",
     "output_type": "stream",
     "text": [
      "Dimension of the data is  (164, 87)\n",
      "X: \n",
      "[[1.    0.492 0.617 ... 5.85  0.264 0.203]\n",
      " [1.    0.497 0.624 ... 6.15  0.286 0.286]\n",
      " [1.    0.532 0.594 ... 5.89  0.386 0.301]\n",
      " ...\n",
      " [1.    0.504 0.643 ... 4.98  0.176 0.148]\n",
      " [1.    0.847 0.987 ... 8.19  0.499 0.494]\n",
      " [1.    0.704 0.853 ... 6.52  0.313 0.25 ]]\n"
     ]
    }
   ],
   "source": [
    "import pandas as pd\n",
    "import numpy as np\n",
    "\n",
    "# Read the data\n",
    "df = pd.read_csv(\"GA-structure-volumes-preterm.csv\",header=None)\n",
    "data = df.values\n",
    "print('Dimension of the data is ', data.shape)\n",
    "\n",
    "# Create label/target vector\n",
    "y = data[:,0] \n",
    "# Create feature matrix\n",
    "X = np.ones(data.shape);\n",
    "X[:,1:]=data[:,1:] \n",
    "print('X: ')\n",
    "print(X)"
   ]
  },
  {
   "cell_type": "markdown",
   "metadata": {},
   "source": [
    "__Task 1.1 [6 marks]__ \n",
    "\n",
    "Print the dimensions of the feature matrix $X$ and target/label vector $y$. Explain the meaning of each dimension"
   ]
  },
  {
   "cell_type": "code",
   "execution_count": 2,
   "metadata": {},
   "outputs": [
    {
     "name": "stdout",
     "output_type": "stream",
     "text": [
      "X shape:  (164, 87)\n",
      "Number of samples is  164\n",
      "Number of features is  87\n",
      "------------------------------------\n",
      "y shape: 164\n",
      "Number of labels is 164\n"
     ]
    }
   ],
   "source": [
    "# Print dimensions X\n",
    "print(\"X shape: \", X.shape)\n",
    "\n",
    "total_samples = X.shape[0]\n",
    "print('Number of samples is ', total_samples)\n",
    "total_features = X.shape[1]\n",
    "print('Number of features is ', total_features)\n",
    "print(\"------------------------------------\")\n",
    "# Print dimensions y\n",
    "print(\"y shape:\", len(y))\n",
    "print('Number of labels is', len(y))"
   ]
  },
  {
   "cell_type": "markdown",
   "metadata": {},
   "source": [
    "__Your answer:__\n",
    "\n",
    "##### Feature Matrix X\n",
    "For the feature matrix X, the rows represent the number of samples and each column represents a feature.\n",
    "This means that we have 164 samples and 87 different features. The features represent different brain structures\n",
    "It is important to note than the first feature is the bias term\n",
    "\n",
    "##### Label Vector Y\n",
    "The label vector y is a group of samples that have been tagged with a label (observed values)"
   ]
  },
  {
   "cell_type": "markdown",
   "metadata": {},
   "source": [
    "__Task 1.2 [9 marks]__ \n",
    "* Implement your own Ridge regression using functions available in `numpy` package. Do not use `sklearn`. Calculate the weight vector $w$ using the formula $w=(X^TX+\\lambda I)^{-1}X^Ty$. Use value $\\lambda=1$. \n",
    "* Print the the dimension of the resulting vector $w$ and check that it is correct.\n",
    "* Evaluate the prediction using the feature vector of the first subject (Subject 0) in the dataset and print the result. Check that it is similar to the true GA."
   ]
  },
  {
   "cell_type": "code",
   "execution_count": 3,
   "metadata": {
    "scrolled": true
   },
   "outputs": [
    {
     "name": "stdout",
     "output_type": "stream",
     "text": [
      "Weight vector w:\n",
      "(87, 1)\n",
      "The weight vector has the same rows as the number of features which is correct\n",
      "--------------------------------\n",
      "First subject GA:  35.71\n",
      "First subject GA evaluation:  36.04\n",
      "Difference between the two:  0.33\n",
      "They are very similar\n"
     ]
    }
   ],
   "source": [
    "# Implement equation\n",
    "def getWeightVector(features,labels,lamda):\n",
    "    \n",
    "    #Calculate the weight vector = (Xt*X + lambda*I)^-1 * Xt * y\n",
    "    \n",
    "    #Transpose:\n",
    "    Xt = np.transpose(features)\n",
    "    \n",
    "    #Multiply transpose with features\n",
    "    XtX = np.matmul(Xt,features)\n",
    "    \n",
    "    # Add the lambda and inverse\n",
    "    XtXi = np.linalg.inv(np.add(XtX, lamda))\n",
    "    \n",
    "    #Multiply XtXi with Xt.y\n",
    "    return np.matmul(XtXi,np.matmul(Xt,labels))\n",
    "\n",
    "# Reshape the label matrix\n",
    "y = y.reshape(-1,1)\n",
    "\n",
    "# Calculate the weight vector\n",
    "I = np.identity(X.shape[1])\n",
    "weight_vector = getWeightVector(X,y,I)\n",
    "\n",
    "\n",
    "# Print dimension of w\n",
    "print('Weight vector w:')\n",
    "print(weight_vector.shape)\n",
    "print(\"The weight vector has the same rows as the number of features which is correct\")\n",
    "\n",
    "# Evaluate GA on first subject and print the result\n",
    "first_subject_evaluation = np.matmul(X[0], weight_vector)\n",
    "\n",
    "\n",
    "# Check it makes sense\n",
    "similarity = first_subject_evaluation - data[0][0]\n",
    "print(\"--------------------------------\")\n",
    "print(\"First subject GA: \", round(data[0][0],2))\n",
    "print(\"First subject GA evaluation: \", round(first_subject_evaluation[0],2))\n",
    "print(\"Difference between the two: \", round(similarity[0],2))\n",
    "print(\"They are very similar\")"
   ]
  },
  {
   "cell_type": "markdown",
   "metadata": {},
   "source": [
    "__Task 1.3 [6 marks]__ \n",
    "* Predict the target/label vector $\\hat{\\mathbf{y}}$ and print its shape. \n",
    "* Plot true vs. predicted labels. Annotated the axis of the plot.\n",
    "* Calculate RMSE on the whole set and print"
   ]
  },
  {
   "cell_type": "code",
   "execution_count": 4,
   "metadata": {},
   "outputs": [
    {
     "name": "stdout",
     "output_type": "stream",
     "text": [
      "RMSE:  1.27\n"
     ]
    },
    {
     "data": {
      "image/png": "[encoded data removed]",
      "text/plain": [
       "<Figure size 432x288 with 1 Axes>"
      ]
     },
     "metadata": {
      "needs_background": "light"
     },
     "output_type": "display_data"
    }
   ],
   "source": [
    "%matplotlib inline\n",
    "import matplotlib.pyplot as plt\n",
    "\n",
    "# Predict target/label vector\n",
    "y_predicted = np.matmul(X,weight_vector)\n",
    "\n",
    "# Plot true vs. predicted labels\n",
    "def plotTrueVsPredicted(features,labels,labels_predicted,figureNumber=0,title = None):\n",
    "    \n",
    "    # In case we need to show more than one plot in the same cell\n",
    "    plt.figure(figureNumber)\n",
    "    plt.scatter(labels,labels_predicted)\n",
    "    plt.scatter(labels,labels,c='r')\n",
    "    plt.xlabel('True GA')\n",
    "    plt.ylabel('Predicted GA')\n",
    "    if title is not None:\n",
    "        plt.title(title)\n",
    "\n",
    "plotTrueVsPredicted(X, y, y_predicted)   \n",
    "\n",
    "# Calculate and print RMSE\n",
    "def getRMSE(labels, labels_predicted, samples):\n",
    "    error = labels - labels_predicted\n",
    "    return np.sqrt(np.sum(error**2)/samples)\n",
    "\n",
    "rmse = getRMSE(y , y_predicted,total_samples)    \n",
    "print('RMSE: ', round(rmse,2))\n"
   ]
  },
  {
   "cell_type": "markdown",
   "metadata": {},
   "source": [
    "__Task 1.4 [4 marks]__ \n",
    "\n",
    "Let's split the data into training and test set to evaluate how the model generalises to unseen data.\n",
    "* Your training test will be composed of the first 120 subjects\n",
    "* Your test set will be composed of last 44 subjects\n",
    "* Fit the ridge regression to the training set\n",
    "* Calculate RMSE between true and predicted labels on test set"
   ]
  },
  {
   "cell_type": "code",
   "execution_count": 5,
   "metadata": {},
   "outputs": [
    {
     "name": "stdout",
     "output_type": "stream",
     "text": [
      "RMSE on test data  1.95\n"
     ]
    },
    {
     "data": {
      "image/png": "[encoded data removed]",
      "text/plain": [
       "<Figure size 432x288 with 1 Axes>"
      ]
     },
     "metadata": {
      "needs_background": "light"
     },
     "output_type": "display_data"
    }
   ],
   "source": [
    "# Training set - first 120 subjects \n",
    "X_train = X[:120,:]\n",
    "y_train = y[:120]\n",
    "\n",
    "# Test set - last 44 subjects\n",
    "X_test = X[120:,:]\n",
    "y_test = y[120:]\n",
    "\n",
    "# Perform ridge regression on training test\n",
    "I_train = np.identity(X_train.shape[1])\n",
    "weight_vector_from_training = getWeightVector(X_train, y_train, I_train)\n",
    "\n",
    "# Predict on test set\n",
    "y_predicted_from_training = np.matmul(X_test, weight_vector_from_training)\n",
    "plotTrueVsPredicted(X_test, y_test, y_predicted_from_training)\n",
    "\n",
    "# Calculate and print RMSE on test set\n",
    "rmse_on_test_data = getRMSE(y_test, y_predicted_from_training, len(y_test))\n",
    "print('RMSE on test data ', round(rmse_on_test_data,2))\n"
   ]
  },
  {
   "cell_type": "markdown",
   "metadata": {},
   "source": [
    "__Task 1.5 [5 marks]__\n",
    "\n",
    "Implementation of Ridge regression in `sklearn` performs slighly better than implementation accorging to our equation. This is because we can generally obtain better fit if we so not penalise the bias term $w_0$. Our original equation penalises all weights using equal penatly weight $\\lambda$. We would want to have penalty weight $\\lambda$ only for the weights $(w_1,...,w_D)$ and for $w_0$ we would like penalty weight zero. We can do that by implementing following equation:\n",
    "\n",
    "$$w=(X^TX+\\Lambda)^{-1}X^Ty$$\n",
    "\n",
    "$$\\Lambda = \\begin{pmatrix} \n",
    "0 & 0 & \\cdots & 0 \\\\ \n",
    "0 & \\lambda & \\cdots & 0 \\\\\n",
    "\\vdots & \\vdots & \\cdots & \\vdots \\\\\n",
    "0 & 0 & \\cdots & \\lambda\n",
    "\\end{pmatrix}$$\n",
    "\n",
    "* Create matrix $\\Lambda$ and print it. Use $\\lambda = 1$\n",
    "* Implement the Ridge regression with this new penalty\n",
    "* Fit the weight vector using the training data \n",
    "* Evaluate RMSE on the test data \n",
    "* Compare to the previous result."
   ]
  },
  {
   "cell_type": "code",
   "execution_count": 6,
   "metadata": {},
   "outputs": [
    {
     "name": "stdout",
     "output_type": "stream",
     "text": [
      "RMSE with lambda:  1.52\n",
      "\n",
      "------------------------------\n",
      "\n",
      "RMSE with proper penalty:  1.52\n",
      "RMSE without proper penalty 1.95\n",
      "Difference:  0.43\n"
     ]
    },
    {
     "data": {
      "image/png": "[encoded data removed]",
      "text/plain": [
       "<Figure size 432x288 with 1 Axes>"
      ]
     },
     "metadata": {
      "needs_background": "light"
     },
     "output_type": "display_data"
    },
    {
     "data": {
      "image/png": "[encoded data removed]",
      "text/plain": [
       "<Figure size 432x288 with 1 Axes>"
      ]
     },
     "metadata": {
      "needs_background": "light"
     },
     "output_type": "display_data"
    }
   ],
   "source": [
    "# Create matrix Lambda\n",
    "lamda = np.identity(X_train.shape[1])\n",
    "lamda[0,0] = 0\n",
    "\n",
    "# Fit vector w with new penalty\n",
    "weight_vector_proper_penalty = getWeightVector(X_train, y_train,lamda)\n",
    "\n",
    "# Predict on test set\n",
    "y_predicted_from_training_proper_penalty = np.matmul(X_test, weight_vector_proper_penalty)\n",
    "\n",
    "# Calculate and print RMSE on test set\n",
    "test_samples = len(y_test)\n",
    "rmse_with_proper_penalty = getRMSE(y_test, y_predicted_from_training_proper_penalty, len(y_test))\n",
    "print('RMSE with lambda: ', round(rmse_with_proper_penalty,2))\n",
    "\n",
    "#Compare the two\n",
    "plotTrueVsPredicted(X_test,y_test,y_predicted_from_training_proper_penalty,0,'With proper penalty')\n",
    "plotTrueVsPredicted(X_test,y_test,y_predicted_from_training,1,'Without proper penalty')\n",
    "\n",
    "print(\"\\n------------------------------\\n\")\n",
    "print('RMSE with proper penalty: ', round(rmse_with_proper_penalty,2))\n",
    "print('RMSE without proper penalty', round(rmse_on_test_data,2))\n",
    "print('Difference: ', round(rmse_on_test_data - rmse_with_proper_penalty,2))"
   ]
  },
  {
   "cell_type": "markdown",
   "metadata": {},
   "source": [
    "**Your answer:** \n",
    "\n",
    "By penalising only for the weights w1 to wd, we further improve our model and thus are able to provide better predictions.\n",
    "RMSE results:\n",
    "* RMSE with proper penalty:  1.52\n",
    "* RMSE without proper penalty 1.95\n",
    "* Difference:  0.43"
   ]
  },
  {
   "cell_type": "markdown",
   "metadata": {},
   "source": [
    "**Total Q1: 30 marks**"
   ]
  },
  {
   "cell_type": "markdown",
   "metadata": {},
   "source": [
    "## Question 2\n",
    "### Multi-class classification\n",
    "The goal of this question is to develop a machine learning algorithm to diagnose severity of heart-failure on **NYHA** scale, that rates severity from 1 to 4. We will use two features **EF** and **QRS**. The code bellow loads the data and print summary statistics."
   ]
  },
  {
   "cell_type": "code",
   "execution_count": 7,
   "metadata": {},
   "outputs": [
    {
     "name": "stdout",
     "output_type": "stream",
     "text": [
      "Number of samples:  120\n"
     ]
    },
    {
     "data": {
      "text/html": [
       "<div>\n",
       "<style scoped>\n",
       "    .dataframe tbody tr th:only-of-type {\n",
       "        vertical-align: middle;\n",
       "    }\n",
       "\n",
       "    .dataframe tbody tr th {\n",
       "        vertical-align: top;\n",
       "    }\n",
       "\n",
       "    .dataframe thead th {\n",
       "        text-align: right;\n",
       "    }\n",
       "</style>\n",
       "<table border=\"1\" class=\"dataframe\">\n",
       "  <thead>\n",
       "    <tr style=\"text-align: right;\">\n",
       "      <th></th>\n",
       "      <th>NYHA</th>\n",
       "      <th>EF</th>\n",
       "      <th>QRS</th>\n",
       "    </tr>\n",
       "  </thead>\n",
       "  <tbody>\n",
       "    <tr>\n",
       "      <th>count</th>\n",
       "      <td>120.000000</td>\n",
       "      <td>120.000000</td>\n",
       "      <td>120.000000</td>\n",
       "    </tr>\n",
       "    <tr>\n",
       "      <th>mean</th>\n",
       "      <td>1.850000</td>\n",
       "      <td>44.595472</td>\n",
       "      <td>119.183333</td>\n",
       "    </tr>\n",
       "    <tr>\n",
       "      <th>std</th>\n",
       "      <td>1.009618</td>\n",
       "      <td>15.624452</td>\n",
       "      <td>33.294960</td>\n",
       "    </tr>\n",
       "    <tr>\n",
       "      <th>min</th>\n",
       "      <td>1.000000</td>\n",
       "      <td>8.270677</td>\n",
       "      <td>80.000000</td>\n",
       "    </tr>\n",
       "    <tr>\n",
       "      <th>25%</th>\n",
       "      <td>1.000000</td>\n",
       "      <td>30.657606</td>\n",
       "      <td>88.750000</td>\n",
       "    </tr>\n",
       "    <tr>\n",
       "      <th>50%</th>\n",
       "      <td>1.500000</td>\n",
       "      <td>49.487925</td>\n",
       "      <td>102.500000</td>\n",
       "    </tr>\n",
       "    <tr>\n",
       "      <th>75%</th>\n",
       "      <td>3.000000</td>\n",
       "      <td>57.059152</td>\n",
       "      <td>146.000000</td>\n",
       "    </tr>\n",
       "    <tr>\n",
       "      <th>max</th>\n",
       "      <td>4.000000</td>\n",
       "      <td>70.000000</td>\n",
       "      <td>200.000000</td>\n",
       "    </tr>\n",
       "  </tbody>\n",
       "</table>\n",
       "</div>"
      ],
      "text/plain": [
       "            NYHA           EF         QRS\n",
       "count  120.000000  120.000000  120.000000\n",
       "mean     1.850000   44.595472  119.183333\n",
       "std      1.009618   15.624452   33.294960\n",
       "min      1.000000    8.270677   80.000000\n",
       "25%      1.000000   30.657606   88.750000\n",
       "50%      1.500000   49.487925  102.500000\n",
       "75%      3.000000   57.059152  146.000000\n",
       "max      4.000000   70.000000  200.000000"
      ]
     },
     "execution_count": 7,
     "metadata": {},
     "output_type": "execute_result"
    }
   ],
   "source": [
    "# Load csv file\n",
    "df = pd.read_csv(\"heart_failure_data.csv\")  \n",
    "data = df.values\n",
    "\n",
    "# Print number of samples\n",
    "print('Number of samples: ',data.shape[0])\n",
    "\n",
    "# summary statistics\n",
    "df.describe()"
   ]
  },
  {
   "cell_type": "markdown",
   "metadata": {},
   "source": [
    "Let's now create a feature matrix and a label vector. Run the code bellow and check the dimensions of your data."
   ]
  },
  {
   "cell_type": "code",
   "execution_count": 8,
   "metadata": {},
   "outputs": [
    {
     "name": "stdout",
     "output_type": "stream",
     "text": [
      "Features dims: (120, 2)  Labels dims: (120,)\n"
     ]
    }
   ],
   "source": [
    "from sklearn.preprocessing import StandardScaler\n",
    "Features = StandardScaler().fit_transform(data[:,1:])\n",
    "Labels = data[:,0]-1\n",
    "print('Features dims: {}  Labels dims: {}'.format(Features.shape, Labels.shape))"
   ]
  },
  {
   "cell_type": "markdown",
   "metadata": {},
   "source": [
    "__Task 2.1 [5 marks]__ \n",
    "\n",
    "Create a scatter plot of your data, showing the two features on x and y axis and differentiate labels by marker type and color. To do that create a function `plotData()` and call it from the same cell. Make sure your plot is properly annotated."
   ]
  },
  {
   "cell_type": "code",
   "execution_count": 9,
   "metadata": {},
   "outputs": [
    {
     "data": {
      "image/png": "[encoded data removed]",
      "text/plain": [
       "<Figure size 432x288 with 1 Axes>"
      ]
     },
     "metadata": {
      "needs_background": "light"
     },
     "output_type": "display_data"
    }
   ],
   "source": [
    "%matplotlib inline\n",
    "import matplotlib.pyplot as plt\n",
    "\n",
    "# define function\n",
    "def plotData():\n",
    "    plt.scatter(Features[Labels==0, 0], Features[Labels==0, 1], marker = 'o', c='y', label=\"Severity 1\",edgecolor='black')\n",
    "    plt.scatter(Features[Labels==1, 0], Features[Labels==1, 1], marker = 'x', c='r', label=\"Severity 2\",edgecolor='black')\n",
    "    plt.scatter(Features[Labels==2, 0], Features[Labels==2, 1], marker = '^', c='g', label=\"Severity 3\",edgecolor='black')\n",
    "    plt.scatter(Features[Labels==3, 0], Features[Labels==3, 1], marker = 's', c='b', label=\"Severity 4\",edgecolor='black')\n",
    "    plt.legend()\n",
    "    plt.xlabel(df.columns.values[1])\n",
    "    plt.ylabel(df.columns.values[2])\n",
    "           \n",
    "plotData()"
   ]
  },
  {
   "cell_type": "markdown",
   "metadata": {},
   "source": [
    "__Task 2.2 [3 marks]__ \n",
    "\n",
    "Check whether your dataset is balanced. To do that\n",
    "* Plot histogram of the labels\n",
    "* Count number of labels of each class and print it."
   ]
  },
  {
   "cell_type": "code",
   "execution_count": 10,
   "metadata": {},
   "outputs": [
    {
     "name": "stdout",
     "output_type": "stream",
     "text": [
      "Severity 1 :  60\n",
      "Severity 2 :  29\n",
      "Severity 3 :  20\n",
      "Severity 4 :  11\n"
     ]
    },
    {
     "data": {
      "image/png": "[encoded data removed]",
      "text/plain": [
       "<Figure size 432x288 with 1 Axes>"
      ]
     },
     "metadata": {
      "needs_background": "light"
     },
     "output_type": "display_data"
    }
   ],
   "source": [
    "# plot histogram of labels\n",
    "plt.hist(Labels+1)\n",
    "plt.xlabel('Severity');\n",
    "plt.ylabel('Total for each class');\n",
    "\n",
    "# calculate numbers for each class and print\n",
    "unique, counts = np.unique(Labels, return_counts=True)\n",
    "occurances = dict(zip(unique, counts))\n",
    "\n",
    "for item in occurances:\n",
    "    print(\"Severity\",  int(item+1),  \": \", occurances[item])\n"
   ]
  },
  {
   "cell_type": "markdown",
   "metadata": {},
   "source": [
    "__Task 2.3 [4 marks]__ \n",
    "\n",
    "Train a softmax classifier to predict NYHA class. Tune the regularisation parameter using `gridSearch` on the grid of values $[10^{-3}, 10^{-2},...,10^3]$ and print the following results:\n",
    "* cross-validated accuracy for the best model\n",
    "* best parameter"
   ]
  },
  {
   "cell_type": "code",
   "execution_count": 11,
   "metadata": {
    "scrolled": true
   },
   "outputs": [
    {
     "name": "stdout",
     "output_type": "stream",
     "text": [
      "Cross Validated Score:  0.73\n",
      "Best C:  1\n"
     ]
    },
    {
     "name": "stderr",
     "output_type": "stream",
     "text": [
      "C:\\ProgramData\\Anaconda3\\lib\\site-packages\\sklearn\\model_selection\\_search.py:813: DeprecationWarning: The default of the `iid` parameter will change from True to False in version 0.22 and will be removed in 0.24. This will change numeric results when test-set sizes are unequal.\n",
      "  DeprecationWarning)\n"
     ]
    }
   ],
   "source": [
    "from sklearn.linear_model import LogisticRegression\n",
    "from sklearn.model_selection import GridSearchCV\n",
    "from sklearn.model_selection import cross_val_score\n",
    "\n",
    "cv = 5\n",
    "\n",
    "# select model\n",
    "model_softmax = LogisticRegression(multi_class=\"multinomial\",solver=\"lbfgs\")\n",
    "\n",
    "# perform grid search\n",
    "degrees = [ 10**i for i in range(-3,4) ]\n",
    "parameters = {\"C\": degrees}\n",
    "grid_search = GridSearchCV(estimator=model_softmax, param_grid=parameters,cv=cv)\n",
    "\n",
    "# perform the search over all parameters by fitting to the features and labels\n",
    "grid_search.fit(Features,Labels)\n",
    "\n",
    "# print score\n",
    "print(\"Cross Validated Score: \", round(grid_search.best_score_,2))\n",
    "\n",
    "# print best parameter\n",
    "best_model_softmax = grid_search.best_estimator_\n",
    "print(\"Best C: \", best_model_softmax.C)\n",
    "best_C = best_model_softmax.C"
   ]
  },
  {
   "cell_type": "markdown",
   "metadata": {},
   "source": [
    "__Task 2.4 [2 marks]__ \n",
    "\n",
    "Investigate which classes are most often misclassified \n",
    "* Predict the labels using `cross_val_predict` and the best estimator from grid search.\n",
    "* Calculate and print confusion matrix\n",
    "* Write your observation about most misclassified classes in the markdown box."
   ]
  },
  {
   "cell_type": "code",
   "execution_count": 12,
   "metadata": {},
   "outputs": [
    {
     "name": "stdout",
     "output_type": "stream",
     "text": [
      "[[59  1  0  0]\n",
      " [ 4 18  3  4]\n",
      " [ 1 12  4  3]\n",
      " [ 0  2  2  7]]\n"
     ]
    },
    {
     "data": {
      "text/plain": [
       "Text(0, 0.5, 'True labels')"
      ]
     },
     "execution_count": 12,
     "metadata": {},
     "output_type": "execute_result"
    },
    {
     "data": {
      "image/png": "[encoded data removed]",
      "text/plain": [
       "<Figure size 288x288 with 1 Axes>"
      ]
     },
     "metadata": {
      "needs_background": "light"
     },
     "output_type": "display_data"
    }
   ],
   "source": [
    "from sklearn.model_selection import cross_val_predict\n",
    "from sklearn.metrics import confusion_matrix\n",
    "\n",
    "# predict labels using cross-validation\n",
    "Labels_predicted = cross_val_predict(best_model_softmax, Features, Labels, cv=cv)\n",
    "\n",
    "# Calculate and print confusion matrix\n",
    "confusionMatrix = confusion_matrix(Labels,Labels_predicted)\n",
    "print(confusionMatrix)\n",
    "\n",
    "# Plot and annotate for better visualisation\n",
    "plt.matshow(confusionMatrix, cmap=plt.cm.gray)\n",
    "plt.xlabel('Predicted labels', fontsize = 16)\n",
    "plt.ylabel('True labels', fontsize = 16)"
   ]
  },
  {
   "cell_type": "markdown",
   "metadata": {},
   "source": [
    "**Your answer:**\n",
    "\n",
    "As seen by the confusion matrix and by examining our data, the most misclassified classes are class 4 and class 3. This is mainly due to the fact that the dataset is not well balanced:\n",
    "    * Class 1: 60 samples\n",
    "    * Class 2: 29 samples\n",
    "    * Class 3: Only 20 samples\n",
    "    * Class 4: Only 11 samples\n",
    "    \n",
    "Class 1 takes up the majority of our dataset with Class 2 following it (although still low in comparison). Therefore it makes sense that classes 3&4 are missclassified more often.\n",
    "\n",
    "Other than that, our data is non-seperable, making hard for a linear classifier to distignuish. As seen in the chart in the previous task, there is a lot of overlap of different classes in their respective \"clusters\"."
   ]
  },
  {
   "cell_type": "markdown",
   "metadata": {},
   "source": [
    "__Task 2.5 [4 marks]__ \n",
    "\n",
    "* Create a function `plotDecisionBoundary` that plots decision regions using different colors, the data and annotates the plot. \n",
    "* Run the function to display the results of the classification. \n",
    "* Decide what is the main reason for the misclassification and write it in the answer box."
   ]
  },
  {
   "cell_type": "code",
   "execution_count": 13,
   "metadata": {},
   "outputs": [
    {
     "name": "stdout",
     "output_type": "stream",
     "text": [
      "Score:  0.758\n"
     ]
    },
    {
     "data": {
      "image/png": "[encoded data removed]",
      "text/plain": [
       "<Figure size 432x288 with 1 Axes>"
      ]
     },
     "metadata": {
      "needs_background": "light"
     },
     "output_type": "display_data"
    }
   ],
   "source": [
    "import matplotlib.pyplot as plt\n",
    "%matplotlib inline\n",
    "\n",
    "# create function\n",
    "def plotDecisionBoundary(model_to_plot, features, predicted_labels):\n",
    "   \n",
    "    # plot\n",
    "    x1 = np.linspace(features[:,0].min()-1, features[:,0].max()+1, 500) \n",
    "    x2 = np.linspace(features[:,1].min()-1, features[:,1].max()+1, 500).T\n",
    "    x1, x2 = np.meshgrid(x1, x2) \n",
    "    Feature_space = np.c_[x1.ravel(), x2.ravel()] \n",
    "\n",
    "    y=model_to_plot.predict(Feature_space)\n",
    "    plt.contourf(x1,x2,y.reshape(x1.shape),cmap ='summer')\n",
    "    plotData()\n",
    "\n",
    "#Print the score\n",
    "print(\"Score: \", round(best_model_softmax.score(Features,Labels),3))\n",
    "\n",
    "#Plot the decision boundary\n",
    "plotDecisionBoundary(best_model_softmax, Features, Labels_predicted)"
   ]
  },
  {
   "cell_type": "markdown",
   "metadata": {},
   "source": [
    "**Your answer:**\n",
    "\n",
    "Main reasons for misclassification is that the data is non-separable making it hard for a linear classifier"
   ]
  },
  {
   "cell_type": "markdown",
   "metadata": {},
   "source": [
    "__Task 2.6 [6 marks]__\n",
    "\n",
    "* Implement polynomial feature transformation to create non-linear classification model using `Pipeline`. Do not forget to scale the polynomial features.\n",
    "* Using `gridSearchCV` find best polynomial logistic regression model (`degree`=$[1,...,10]$, `C`=$[10^{-5},10^{-4},...,10{^5}]$)"
   ]
  },
  {
   "cell_type": "code",
   "execution_count": 14,
   "metadata": {},
   "outputs": [
    {
     "data": {
      "text/plain": [
       "GridSearchCV(cv=5, error_score='raise-deprecating',\n",
       "             estimator=Pipeline(memory=None,\n",
       "                                steps=(('poly_features',\n",
       "                                        PolynomialFeatures(degree=2,\n",
       "                                                           include_bias=True,\n",
       "                                                           interaction_only=False,\n",
       "                                                           order='C')),\n",
       "                                       ('scaler',\n",
       "                                        StandardScaler(copy=True,\n",
       "                                                       with_mean=True,\n",
       "                                                       with_std=True)),\n",
       "                                       ('log_regression',\n",
       "                                        LogisticRegression(C=1.0,\n",
       "                                                           class_weight=None,\n",
       "                                                           dual=False,\n",
       "                                                           fit_intercept=True,\n",
       "                                                           interce...\n",
       "                                                           random_state=None,\n",
       "                                                           solver='lbfgs',\n",
       "                                                           tol=0.0001,\n",
       "                                                           verbose=0,\n",
       "                                                           warm_start=False))),\n",
       "                                verbose=False),\n",
       "             iid='warn', n_jobs=None,\n",
       "             param_grid={'log_regression__C': array([1.e-05, 1.e-04, 1.e-03, 1.e-02, 1.e-01, 1.e+00, 1.e+01, 1.e+02,\n",
       "       1.e+03, 1.e+04, 1.e+05]),\n",
       "                         'poly_features__degree': range(1, 11)},\n",
       "             pre_dispatch='2*n_jobs', refit=True, return_train_score=False,\n",
       "             scoring=None, verbose=0)"
      ]
     },
     "execution_count": 14,
     "metadata": {},
     "output_type": "execute_result"
    }
   ],
   "source": [
    "###################################\n",
    "# this code is to suppress warnings\n",
    "import warnings\n",
    "from sklearn.exceptions import ConvergenceWarning\n",
    "warnings.filterwarnings(\"ignore\", category=DeprecationWarning)\n",
    "warnings.filterwarnings(\"ignore\", category=ConvergenceWarning)\n",
    "warnings.filterwarnings(\"ignore\", category=FutureWarning)\n",
    "####################################\n",
    "from sklearn.pipeline import Pipeline\n",
    "from sklearn.preprocessing import PolynomialFeatures\n",
    "from sklearn.preprocessing import StandardScaler\n",
    "\n",
    "from sklearn.svm import LinearSVC\n",
    "from sklearn.svm import SVC\n",
    "\n",
    "\n",
    "# Create pipeline for Polynomial softmax\n",
    "model_poly = Pipeline(((\"poly_features\", PolynomialFeatures()),\n",
    "                  (\"scaler\", StandardScaler()),\n",
    "                  (\"log_regression\", LogisticRegression(multi_class= 'multinomial', solver='lbfgs'))))\n",
    "\n",
    "# Define parameter grid\n",
    "param_grid_poly = {\"poly_features__degree\": range(1, 11), \n",
    "              \"log_regression__C\": np.logspace(-5, 5, 11)}\n",
    "\n",
    "\n",
    "# Perform grid search\n",
    "grid_search_poly = GridSearchCV(model_poly, cv=cv, param_grid=param_grid_poly)\n",
    "grid_search_poly.fit(Features,Labels)"
   ]
  },
  {
   "cell_type": "markdown",
   "metadata": {},
   "source": [
    "Display the following results:\n",
    "* print best polynomial `degree`\n",
    "* print best parameter `C`\n",
    "* print best score\n",
    "* plot the decision regions using function `plotDecisionBoundary`"
   ]
  },
  {
   "cell_type": "code",
   "execution_count": 15,
   "metadata": {},
   "outputs": [
    {
     "name": "stdout",
     "output_type": "stream",
     "text": [
      "Best degree:  2\n",
      "Best C:  0.1\n",
      "Best score:  0.758\n"
     ]
    },
    {
     "data": {
      "image/png": "[encoded data removed]",
      "text/plain": [
       "<Figure size 432x288 with 1 Axes>"
      ]
     },
     "metadata": {
      "needs_background": "light"
     },
     "output_type": "display_data"
    }
   ],
   "source": [
    "# Get the best model\n",
    "best_model_poly = grid_search_poly.best_estimator_\n",
    "# print best degree\n",
    "best_degree = best_model_poly.named_steps['poly_features'].degree\n",
    "print('Best degree: ', best_degree)\n",
    "\n",
    "# print best C\n",
    "best_c = best_model_poly.named_steps['log_regression'].C\n",
    "print('Best C: ', best_c)\n",
    "\n",
    "# print best score\n",
    "best_score = grid_search_poly.best_score_\n",
    "print('Best score: ', round(best_score,3))\n",
    "\n",
    "# Plot the decision boundary\n",
    "plotDecisionBoundary(best_model_poly,Features, Labels) "
   ]
  },
  {
   "cell_type": "markdown",
   "metadata": {},
   "source": [
    "__Task 2.7 [6 marks]__\n",
    "\n",
    "Implement multi-label support vector classifier using `OneVsRestClassifier` and `SVC`. Tune the parameters of the classifier using `GridSearchCV` using these values:\n",
    "* `rbf` kernel with `gamma` $[10^{-3},10^{-2},...,10^{3}]$\n",
    "* `linear` kernel\n",
    "* `C`= $[10^{-3},10^{-2},...,10{^3}]$\n",
    "\n",
    "Be patient, this might take a while"
   ]
  },
  {
   "cell_type": "code",
   "execution_count": 16,
   "metadata": {},
   "outputs": [
    {
     "data": {
      "text/plain": [
       "GridSearchCV(cv=5, error_score='raise-deprecating',\n",
       "             estimator=OneVsRestClassifier(estimator=Pipeline(memory=None,\n",
       "                                                              steps=[('scaler',\n",
       "                                                                      StandardScaler(copy=True,\n",
       "                                                                                     with_mean=True,\n",
       "                                                                                     with_std=True)),\n",
       "                                                                     ('svc',\n",
       "                                                                      SVC(C=1.0,\n",
       "                                                                          cache_size=200,\n",
       "                                                                          class_weight=None,\n",
       "                                                                          coef0=0.0,\n",
       "                                                                          decision_function_shape='ovr',\n",
       "                                                                          degree=3,\n",
       "                                                                          gamma='auto_deprecated',\n",
       "                                                                          kernel='rbf',\n",
       "                                                                          max_iter=-1,\n",
       "                                                                          probability=False,\n",
       "                                                                          random_state=None,\n",
       "                                                                          shrinking=True,\n",
       "                                                                          tol=0.001,\n",
       "                                                                          verbose=False))],\n",
       "                                                              verbose=False),\n",
       "                                           n_jobs=None),\n",
       "             iid='warn', n_jobs=None,\n",
       "             param_grid={'estimator__svc__C': [0.001, 0.01, 0.1, 1, 10, 100,\n",
       "                                               1000],\n",
       "                         'estimator__svc__gamma': [0.001, 0.01, 0.1, 1, 10, 100,\n",
       "                                                   1000],\n",
       "                         'estimator__svc__kernel': ['rbf', 'linear']},\n",
       "             pre_dispatch='2*n_jobs', refit=True, return_train_score=False,\n",
       "             scoring=None, verbose=0)"
      ]
     },
     "execution_count": 16,
     "metadata": {},
     "output_type": "execute_result"
    }
   ],
   "source": [
    "from sklearn.multiclass import OneVsRestClassifier\n",
    "\n",
    "pipeline = Pipeline(steps=[('scaler', StandardScaler()),\n",
    "                    ('svc', SVC())])\n",
    "\n",
    "model_onevsrest = OneVsRestClassifier(pipeline)\n",
    "\n",
    "# select the classifier\n",
    "# model_onevsrest = OneVsRestClassifier(SVC())\n",
    "                \n",
    "# Define parameter grid\n",
    "degrees = [ 10**i for i in range(-3,4) ]\n",
    "param_grid = {\"estimator__svc__gamma\": degrees, \n",
    "              \"estimator__svc__C\": degrees,\n",
    "              \"estimator__svc__kernel\" : ['rbf', 'linear']}\n",
    "\n",
    "\n",
    "# Perform grid search\n",
    "grid_search_onevsrest = GridSearchCV(model_onevsrest, cv=cv, param_grid=param_grid)\n",
    "grid_search_onevsrest.fit(Features,Labels)\n"
   ]
  },
  {
   "cell_type": "markdown",
   "metadata": {},
   "source": [
    "Display following results:\n",
    "* print best parameters\n",
    "* print best score\n",
    "* plot decision boundaries using `plotDecisionBoundary`"
   ]
  },
  {
   "cell_type": "code",
   "execution_count": 17,
   "metadata": {},
   "outputs": [
    {
     "name": "stdout",
     "output_type": "stream",
     "text": [
      "Best gamma:  1\n",
      "Best C:  100\n",
      "Best kernel:  rbf\n",
      "Best score:  0.742\n"
     ]
    },
    {
     "data": {
      "image/png": "[encoded data removed]",
      "text/plain": [
       "<Figure size 432x288 with 1 Axes>"
      ]
     },
     "metadata": {
      "needs_background": "light"
     },
     "output_type": "display_data"
    }
   ],
   "source": [
    "# print best parameters\n",
    "# Summary of best parameters\n",
    "best_model_onevsrest = grid_search_onevsrest.best_estimator_\n",
    "best_params_ovevsrest = grid_search_onevsrest.best_params_\n",
    "best_gamma = best_params_ovevsrest['estimator__svc__gamma'] \n",
    "print('Best gamma: ', best_gamma)\n",
    "best_C = best_params_ovevsrest['estimator__svc__C'] \n",
    "print('Best C: ', best_C)\n",
    "best_kernel = best_params_ovevsrest['estimator__svc__kernel'] \n",
    "print('Best kernel: ', best_kernel)\n",
    "\n",
    "\n",
    "# print best score\n",
    "best_score = grid_search_onevsrest.best_score_\n",
    "print('Best score: ', round(best_score,3))\n",
    "\n",
    "# plot decision boundary\n",
    "plotDecisionBoundary(best_model_onevsrest, Features, Labels_predicted)\n"
   ]
  },
  {
   "cell_type": "markdown",
   "metadata": {},
   "source": [
    "Which classifier performed the best?\n",
    "\n",
    "**Your answer:**\n",
    "<br>\n",
    "The non-linear classifier from Task 2.6 seems to perform the best as this is a non-separable problem and it is more equipped to handle that. \n",
    "<br>\n",
    "The OneVsRestClassifier seems to overfit and the classifier from Task 2.3 will have issues with the non-separability of the data."
   ]
  },
  {
   "cell_type": "markdown",
   "metadata": {},
   "source": [
    "**Total Q2: 30 marks**"
   ]
  }
 ],
 "metadata": {
  "kernelspec": {
   "display_name": "Python 3",
   "language": "python",
   "name": "python3"
  },
  "language_info": {
   "codemirror_mode": {
    "name": "ipython",
    "version": 3
   },
   "file_extension": ".py",
   "mimetype": "text/x-python",
   "name": "python",
   "nbconvert_exporter": "python",
   "pygments_lexer": "ipython3",
   "version": "3.7.3"
  }
 },
 "nbformat": 4,
 "nbformat_minor": 2
}
